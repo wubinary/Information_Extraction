{
 "cells": [
  {
   "cell_type": "code",
   "execution_count": null,
   "metadata": {},
   "outputs": [],
   "source": []
  },
  {
   "cell_type": "code",
   "execution_count": null,
   "metadata": {},
   "outputs": [],
   "source": []
  },
  {
   "cell_type": "code",
   "execution_count": null,
   "metadata": {},
   "outputs": [],
   "source": []
  },
  {
   "cell_type": "markdown",
   "metadata": {},
   "source": [
    "# Met2 Dataset\n",
    "\n",
    "japanese encoding : https://en.wikipedia.org/wiki/JIS_encoding\n",
    "\n"
   ]
  },
  {
   "cell_type": "code",
   "execution_count": null,
   "metadata": {},
   "outputs": [],
   "source": [
    "import torch\n",
    "from torch.utils.data import Dataset, DataLoader\n",
    "\n"
   ]
  },
  {
   "cell_type": "code",
   "execution_count": null,
   "metadata": {},
   "outputs": [],
   "source": [
    "import gzip \n",
    "\n",
    "met2_path = '/media/D/ADL2020-SPRING/project/met2/met2data/training/japanese/keys/keys.970827.gz'\n",
    "\n",
    "with gzip.open(met2_path, 'rb') as f:\n",
    "    file_content = f.read()\n",
    "document = str(file_content, 'EUC-JP')\n"
   ]
  },
  {
   "cell_type": "code",
   "execution_count": null,
   "metadata": {},
   "outputs": [],
   "source": []
  },
  {
   "cell_type": "code",
   "execution_count": null,
   "metadata": {},
   "outputs": [],
   "source": [
    "import gzip\n",
    "\n",
    "from bs4 import BeautifulSoup\n",
    "\n",
    "def get_samples(document):\n",
    "    b_sentence, b_label = [], []\n",
    "\n",
    "    soup = BeautifulSoup(document, 'html.parser')\n",
    "    doc_list = list(soup.find_all('doc'))\n",
    "\n",
    "    for doc in doc_list:\n",
    "        paragraphs = list(doc.find_all('p'))\n",
    "        for paragraph in paragraphs:\n",
    "            p = paragraph\n",
    "\n",
    "            # labeling\n",
    "            cursor, sentence, label = 0, [], []\n",
    "\n",
    "            tag_list = list(p.find_all(['enamex','timex','numex']))\n",
    "            for tag in tag_list:\n",
    "                cursor_tag = p.text.find(tag.text, cursor, len(p.text))\n",
    "\n",
    "                if cursor_tag-cursor>0:\n",
    "                    sentence.append(p.text[cursor:cursor_tag].replace('\\u3000','').replace('\\n',''))\n",
    "                    label.append('None')\n",
    "                sentence.append(p.text[cursor_tag:cursor_tag+len(tag.text)])\n",
    "                label.append(tag['type'])\n",
    "\n",
    "                cursor = cursor_tag+len(tag.text)\n",
    "\n",
    "            ## paragraph太長了，sentence超過5 當作下一筆sample\n",
    "            for i in range(0,len(sentence)-5,5):\n",
    "                b_sentence.append(sentence[i:i+5])\n",
    "                b_label.append(label[i:i+5])\n",
    "\n",
    "    return b_sentence, b_label\n",
    "\n",
    "met2_path = '/media/D/ADL2020-SPRING/project/met2/met2data/training/japanese/keys/keys.970827.gz'\n",
    "\n",
    "with gzip.open(met2_path, 'rb') as f:\n",
    "    file_content = f.read()\n",
    "document = str(file_content, 'EUC-JP')\n",
    "\n",
    "b_sentence, b_label = get_samples(document)"
   ]
  },
  {
   "cell_type": "code",
   "execution_count": null,
   "metadata": {
    "scrolled": true
   },
   "outputs": [],
   "source": [
    "len(b_sentence), len(b_label)"
   ]
  },
  {
   "cell_type": "code",
   "execution_count": null,
   "metadata": {},
   "outputs": [],
   "source": [
    "idx = 859\n",
    "b_sentence[idx], b_label[idx]"
   ]
  },
  {
   "cell_type": "code",
   "execution_count": null,
   "metadata": {},
   "outputs": [],
   "source": []
  },
  {
   "cell_type": "markdown",
   "metadata": {},
   "source": [
    "## get tags"
   ]
  },
  {
   "cell_type": "code",
   "execution_count": null,
   "metadata": {
    "scrolled": false
   },
   "outputs": [],
   "source": [
    "\n",
    "def get_tags(document):\n",
    "    tags = set()\n",
    "    soup = BeautifulSoup(document, 'html.parser')\n",
    "    name_tags = soup.find_all(['enamex','timex','numex'])\n",
    "    for tag in name_tags:\n",
    "        tags.update([tag['type']])\n",
    "    return ['None']+sorted(list(tags))\n",
    "\n",
    "met2_path = '/media/D/ADL2020-SPRING/project/met2/met2data/training/japanese/keys/keys.970827.gz'\n",
    "\n",
    "with gzip.open(met2_path, 'rb') as f:\n",
    "    document = str(f.read(), 'EUC-JP')\n",
    "    \n",
    "tags = get_tags(document)\n",
    "tags"
   ]
  },
  {
   "cell_type": "markdown",
   "metadata": {},
   "source": [
    "## get samples"
   ]
  },
  {
   "cell_type": "code",
   "execution_count": null,
   "metadata": {},
   "outputs": [],
   "source": [
    "met2_path = '/media/D/ADL2020-SPRING/project/met2/met2data/training/japanese/keys/keys.970827.gz'\n",
    "\n",
    "with gzip.open(met2_path, 'rb') as f:\n",
    "    document = str(f.read(), 'EUC-JP')\n",
    "    \n",
    "soup = BeautifulSoup(document, 'html.parser')\n",
    "\n",
    "doc_list = list(soup.find_all('doc'))\n",
    "#random.shuffle(doc_list)\n",
    "\n",
    "for doc in doc_list:\n",
    "    para = doc.find_all('p')\n",
    "    #print(len(para),para)\n",
    "    input(\"\")\n",
    "    for p in para:\n",
    "        print(p.text)\n",
    "        data.append(p.text)\n",
    "        input(\"\")\n"
   ]
  },
  {
   "cell_type": "code",
   "execution_count": null,
   "metadata": {},
   "outputs": [],
   "source": []
  },
  {
   "cell_type": "code",
   "execution_count": null,
   "metadata": {},
   "outputs": [],
   "source": [
    "\n",
    "para = para.find_next('enamex')\n",
    "para['type'], para.text\n"
   ]
  },
  {
   "cell_type": "code",
   "execution_count": null,
   "metadata": {},
   "outputs": [],
   "source": [
    "para = para.next_sibling\n",
    "para"
   ]
  },
  {
   "cell_type": "code",
   "execution_count": null,
   "metadata": {},
   "outputs": [],
   "source": []
  },
  {
   "cell_type": "code",
   "execution_count": null,
   "metadata": {},
   "outputs": [],
   "source": []
  },
  {
   "cell_type": "code",
   "execution_count": null,
   "metadata": {},
   "outputs": [],
   "source": []
  },
  {
   "cell_type": "code",
   "execution_count": null,
   "metadata": {},
   "outputs": [],
   "source": []
  },
  {
   "cell_type": "code",
   "execution_count": null,
   "metadata": {},
   "outputs": [],
   "source": []
  },
  {
   "cell_type": "code",
   "execution_count": null,
   "metadata": {},
   "outputs": [],
   "source": []
  },
  {
   "cell_type": "code",
   "execution_count": null,
   "metadata": {},
   "outputs": [],
   "source": []
  },
  {
   "cell_type": "code",
   "execution_count": null,
   "metadata": {},
   "outputs": [],
   "source": []
  },
  {
   "cell_type": "markdown",
   "metadata": {},
   "source": [
    "# Cinnamon Dataset"
   ]
  },
  {
   "cell_type": "code",
   "execution_count": null,
   "metadata": {},
   "outputs": [],
   "source": []
  },
  {
   "cell_type": "markdown",
   "metadata": {},
   "source": [
    "## inference"
   ]
  },
  {
   "cell_type": "code",
   "execution_count": 2,
   "metadata": {},
   "outputs": [
    {
     "name": "stderr",
     "output_type": "stream",
     "text": [
      "/usr/lib/python3/dist-packages/requests/__init__.py:80: RequestsDependencyWarning: urllib3 (1.22) or chardet (2.1.1) doesn't match a supported version!\n",
      "  RequestsDependencyWarning)\n"
     ]
    },
    {
     "ename": "AttributeError",
     "evalue": "'Namespace' object has no attribute 'save_path'",
     "output_type": "error",
     "traceback": [
      "\u001b[0;31m---------------------------------------------------------------------------\u001b[0m",
      "\u001b[0;31mAttributeError\u001b[0m                            Traceback (most recent call last)",
      "\u001b[0;32m<ipython-input-2-c378cbd95a02>\u001b[0m in \u001b[0;36m<module>\u001b[0;34m\u001b[0m\n\u001b[1;32m     34\u001b[0m \u001b[0;34m\u001b[0m\u001b[0m\n\u001b[1;32m     35\u001b[0m \u001b[0;32mif\u001b[0m \u001b[0m__name__\u001b[0m \u001b[0;34m==\u001b[0m \u001b[0;34m'__main__'\u001b[0m\u001b[0;34m:\u001b[0m\u001b[0;34m\u001b[0m\u001b[0;34m\u001b[0m\u001b[0m\n\u001b[0;32m---> 36\u001b[0;31m     \u001b[0margs\u001b[0m \u001b[0;34m=\u001b[0m \u001b[0mparse_args\u001b[0m\u001b[0;34m(\u001b[0m\u001b[0;34m''\u001b[0m\u001b[0;34m)\u001b[0m\u001b[0;34m\u001b[0m\u001b[0;34m\u001b[0m\u001b[0m\n\u001b[0m\u001b[1;32m     37\u001b[0m \u001b[0;34m\u001b[0m\u001b[0m\n\u001b[1;32m     38\u001b[0m     \u001b[0mos\u001b[0m\u001b[0;34m.\u001b[0m\u001b[0menviron\u001b[0m\u001b[0;34m[\u001b[0m\u001b[0;34m'CUDA_VISIBLE_DEVICES'\u001b[0m\u001b[0;34m]\u001b[0m \u001b[0;34m=\u001b[0m \u001b[0margs\u001b[0m\u001b[0;34m.\u001b[0m\u001b[0mgpu\u001b[0m\u001b[0;34m\u001b[0m\u001b[0;34m\u001b[0m\u001b[0m\n",
      "\u001b[0;32m<ipython-input-2-c378cbd95a02>\u001b[0m in \u001b[0;36mparse_args\u001b[0;34m(string)\u001b[0m\n\u001b[1;32m     27\u001b[0m \u001b[0;34m\u001b[0m\u001b[0m\n\u001b[1;32m     28\u001b[0m     \u001b[0margs\u001b[0m \u001b[0;34m=\u001b[0m \u001b[0mparser\u001b[0m\u001b[0;34m.\u001b[0m\u001b[0mparse_args\u001b[0m\u001b[0;34m(\u001b[0m\u001b[0;34m)\u001b[0m \u001b[0;32mif\u001b[0m \u001b[0mstring\u001b[0m \u001b[0;32mis\u001b[0m \u001b[0;32mNone\u001b[0m \u001b[0;32melse\u001b[0m \u001b[0mparser\u001b[0m\u001b[0;34m.\u001b[0m\u001b[0mparse_args\u001b[0m\u001b[0;34m(\u001b[0m\u001b[0mstring\u001b[0m\u001b[0;34m)\u001b[0m\u001b[0;34m\u001b[0m\u001b[0;34m\u001b[0m\u001b[0m\n\u001b[0;32m---> 29\u001b[0;31m     \u001b[0;32mif\u001b[0m \u001b[0;32mnot\u001b[0m \u001b[0mos\u001b[0m\u001b[0;34m.\u001b[0m\u001b[0mpath\u001b[0m\u001b[0;34m.\u001b[0m\u001b[0mexists\u001b[0m\u001b[0;34m(\u001b[0m\u001b[0margs\u001b[0m\u001b[0;34m.\u001b[0m\u001b[0msave_path\u001b[0m\u001b[0;34m)\u001b[0m\u001b[0;34m:\u001b[0m \u001b[0mos\u001b[0m\u001b[0;34m.\u001b[0m\u001b[0mmakedirs\u001b[0m\u001b[0;34m(\u001b[0m\u001b[0margs\u001b[0m\u001b[0;34m.\u001b[0m\u001b[0msave_path\u001b[0m\u001b[0;34m)\u001b[0m\u001b[0;34m\u001b[0m\u001b[0;34m\u001b[0m\u001b[0m\n\u001b[0m\u001b[1;32m     30\u001b[0m     \u001b[0;32mreturn\u001b[0m \u001b[0margs\u001b[0m\u001b[0;34m\u001b[0m\u001b[0;34m\u001b[0m\u001b[0m\n\u001b[1;32m     31\u001b[0m \u001b[0;34m\u001b[0m\u001b[0m\n",
      "\u001b[0;31mAttributeError\u001b[0m: 'Namespace' object has no attribute 'save_path'"
     ]
    }
   ],
   "source": [
    "from ..dataset import *\n",
    "from train import *\n",
    "\n",
    "import torch.nn.functional as F\n",
    "\n",
    "import os, warnings, argparse\n",
    "warnings.filterwarnings('ignore')\n",
    "\n",
    "def parse_args(string=None):\n",
    "    parser = argparse.ArgumentParser()\n",
    "    parser.add_argument('--lr', default=2e-5,\n",
    "                        type=float, help='leanring rate')\n",
    "    parser.add_argument('--epoch', default=5,\n",
    "                        type=int, help='epochs')\n",
    "    parser.add_argument('--batch-size', default=4,\n",
    "                        type=int, help='batch size')\n",
    "    parser.add_argument('--gpu', default=\"1\",\n",
    "                        type=str, help=\"0:1080ti 1:1070\")\n",
    "    parser.add_argument('--num-workers', default=8,\n",
    "                        type=int, help='dataloader num workers')\n",
    "    parser.add_argument('--cinnamon-data-path', default='/media/D/ADL2020-SPRING/project/cinnamon/',\n",
    "                        type=str, help='cinnamon dataset')\n",
    "    parser.add_argument('--load-model', default='./naive_baseline/ckpt/epoch_6.pt',\n",
    "                        type=str, help='.pt model file ')\n",
    "    parser.add_argument('--save-result-path', default='./naive_baseline/result/',\n",
    "                        type=str, help='.pt model file save dir')\n",
    "    \n",
    "    args = parser.parse_args() if string is None else parser.parse_args(string)\n",
    "    if not os.path.exists(args.save_result_path): os.makedirs(args.save_result_path)\n",
    "    return args\n",
    "\n",
    "def inference(args, dataloader):\n",
    "    model = Model()\n",
    "\n",
    "if __name__ == '__main__':\n",
    "    args = parse_args('')\n",
    "\n",
    "    os.environ['CUDA_VISIBLE_DEVICES'] = args.gpu \n",
    "    os.environ['CUDA_LAUNCH_BLOCKING'] = \"1\"\n",
    "\n",
    "    tokenizer = BertTokenizer.from_pretrained(pretrained_weights, do_lower_case=True)\n",
    "\n",
    "    train_dataset = Cinnamon_Dataset(f'{args.cinnamon_data_path}/train/', tokenizer)\n",
    "    valid_dataset = Cinnamon_Dataset(f'{args.cinnamon_data_path}/dev/', tokenizer)\n",
    "    valid_dataloader = DataLoader(valid_dataset,\n",
    "                                     batch_size = 1,\n",
    "                                     num_workers = args.num_workers,\n",
    "                                     collate_fn = valid_dataset.collate_fn)\n",
    "\n",
    "model = Model()\n",
    "model.load('ckpt/epoch_7.pt').cuda()\n",
    "# 0\n",
    "print(0)"
   ]
  },
  {
   "cell_type": "code",
   "execution_count": null,
   "metadata": {},
   "outputs": [],
   "source": []
  },
  {
   "cell_type": "code",
   "execution_count": null,
   "metadata": {},
   "outputs": [],
   "source": [
    "tags = train_dataset.tags\n",
    "tags"
   ]
  },
  {
   "cell_type": "code",
   "execution_count": null,
   "metadata": {},
   "outputs": [],
   "source": [
    "model.eval()\n",
    "with torch.no_grad():\n",
    "    for idx, (_input, _label) in enumerate(valid_dataloader):\n",
    "        b = _input.shape[0]\n",
    "        \n",
    "        _predict = model(_input.cuda())\n",
    "        \n",
    "        assert(len(_predict[0])==len(_input[0]))\n",
    "        # sentence\n",
    "        #print(list(_input[0].cpu().numpy()))\n",
    "        sentence = np.array([tokenizer.convert_ids_to_tokens([_id])[0] for _id in list(_input[0].cpu().numpy())])\n",
    "        # tag\n",
    "        sentence_tag = (_predict[0]>0.5).cpu().numpy()\n",
    "        \n",
    "        #print(sentence,sentence_tag)\n",
    "        \n",
    "        for j,tag in enumerate(tags):\n",
    "            show = sentence[sentence_tag[:,j]]\n",
    "            if len(show)==0:\n",
    "                continue\n",
    "            print(tags[j])\n",
    "            print(show)\n",
    "        input(\"\")"
   ]
  },
  {
   "cell_type": "code",
   "execution_count": null,
   "metadata": {},
   "outputs": [],
   "source": []
  },
  {
   "cell_type": "code",
   "execution_count": null,
   "metadata": {},
   "outputs": [],
   "source": []
  },
  {
   "cell_type": "code",
   "execution_count": null,
   "metadata": {},
   "outputs": [],
   "source": []
  }
 ],
 "metadata": {
  "kernelspec": {
   "display_name": "Python 3",
   "language": "python",
   "name": "python3"
  },
  "language_info": {
   "codemirror_mode": {
    "name": "ipython",
    "version": 3
   },
   "file_extension": ".py",
   "mimetype": "text/x-python",
   "name": "python",
   "nbconvert_exporter": "python",
   "pygments_lexer": "ipython3",
   "version": "3.6.10"
  }
 },
 "nbformat": 4,
 "nbformat_minor": 2
}
